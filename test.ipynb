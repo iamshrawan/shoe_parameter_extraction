{
 "cells": [
  {
   "cell_type": "code",
   "execution_count": 2,
   "metadata": {},
   "outputs": [],
   "source": [
    "from Dataset import MultiviewImgDataset\n",
    "import json\n",
    "import numpy as np\n",
    "from torchvision import transforms, utils"
   ]
  },
  {
   "cell_type": "code",
   "execution_count": null,
   "metadata": {},
   "outputs": [],
   "source": [
    "#Replace the first argument with path to the dataset folder\n",
    "dataset = MultiviewImgDataset('./multiview/MVShoeDataset/multiview_data/', shuffle=False)\n",
    "#Replace the path with the path where the npy file is saved after treining\n",
    "indices = np.load('./test_indices.npy')\n",
    "indices"
   ]
  },
  {
   "cell_type": "code",
   "execution_count": null,
   "metadata": {},
   "outputs": [],
   "source": [
    "#Replace the path with where the test_expname file is saved\n",
    "with open('./results/mv3_v3/test_mv3_v3.json', 'r') as f:\n",
    "    tr = json.load(f)\n",
    "list(tr.keys())"
   ]
  },
  {
   "cell_type": "code",
   "execution_count": null,
   "metadata": {},
   "outputs": [],
   "source": [
    "#Replace idx with one of the integer from tr.keys() to view the input images\n",
    "idx = 498\n",
    "transforms.functional.to_pil_image(utils.make_grid(dataset[idx][0]/2 + 0.5))"
   ]
  },
  {
   "cell_type": "code",
   "execution_count": null,
   "metadata": {},
   "outputs": [],
   "source": [
    "#To view the predictions and ground truth for repective input\n",
    "prediction = tr[idx][0]\n",
    "ground_truth = tr[idx][1]\n",
    "print(prediction)\n",
    "print(ground_truth)"
   ]
  }
 ],
 "metadata": {
  "kernelspec": {
   "display_name": "Python 3.9.6 ('base')",
   "language": "python",
   "name": "python3"
  },
  "language_info": {
   "codemirror_mode": {
    "name": "ipython",
    "version": 3
   },
   "file_extension": ".py",
   "mimetype": "text/x-python",
   "name": "python",
   "nbconvert_exporter": "python",
   "pygments_lexer": "ipython3",
   "version": "3.9.6"
  },
  "orig_nbformat": 4,
  "vscode": {
   "interpreter": {
    "hash": "c6e4e9f98eb68ad3b7c296f83d20e6de614cb42e90992a65aa266555a3137d0d"
   }
  }
 },
 "nbformat": 4,
 "nbformat_minor": 2
}
